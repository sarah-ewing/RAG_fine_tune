{
 "cells": [
  {
   "cell_type": "code",
   "execution_count": 2,
   "metadata": {},
   "outputs": [
    {
     "name": "stdout",
     "output_type": "stream",
     "text": [
      "Defaulting to user installation because normal site-packages is not writeable\n",
      "Requirement already satisfied: python-Levenshtein in /Users/sarahherberger/Library/Python/3.9/lib/python/site-packages (0.26.1)\n",
      "Requirement already satisfied: Levenshtein==0.26.1 in /Users/sarahherberger/Library/Python/3.9/lib/python/site-packages (from python-Levenshtein) (0.26.1)\n",
      "Requirement already satisfied: rapidfuzz<4.0.0,>=3.9.0 in /Users/sarahherberger/Library/Python/3.9/lib/python/site-packages (from Levenshtein==0.26.1->python-Levenshtein) (3.12.1)\n"
     ]
    }
   ],
   "source": [
    "import functions as fun"
   ]
  },
  {
   "cell_type": "code",
   "execution_count": 3,
   "metadata": {},
   "outputs": [],
   "source": [
    "from dotenv import load_dotenv\n",
    "\n",
    "import os\n",
    "\n",
    "load_dotenv()\n",
    "FOLDER = os.environ.get(\"FOLDER\")"
   ]
  },
  {
   "cell_type": "code",
   "execution_count": 4,
   "metadata": {},
   "outputs": [],
   "source": [
    "exp_files = fun.list_files_in_directory(dir_path=FOLDER+\"/exp_output/\")"
   ]
  },
  {
   "cell_type": "code",
   "execution_count": 5,
   "metadata": {},
   "outputs": [
    {
     "name": "stdout",
     "output_type": "stream",
     "text": [
      "    0 5_exp_pipeline_Claude35_Neighbor_25.csv (111, 13)\n",
      "(111, 13)\n",
      "    1 5_exp_pipeline_Claude35_Chunk_50.csv (111, 13)\n",
      "(222, 13)\n",
      "    2 5_exp_pipeline_Claude35_Chunk_20.csv (111, 13)\n",
      "(333, 13)\n",
      "    3 5_exp_pipeline_Claude35_Chunk_8.csv (111, 13)\n",
      "(444, 13)\n",
      "    4 5_exp_pipeline_Claude35_Neighbor_50.csv (111, 13)\n",
      "(555, 13)\n",
      "    5 5_exp_pipeline_Claude35_Chunk_9.csv (111, 13)\n",
      "(666, 13)\n",
      "    6 5_exp_pipeline_Claude35_Document_5.csv (2, 13)\n",
      "(668, 13)\n",
      "    7 5_exp_pipeline_Claude35_Document_4.csv (111, 13)\n",
      "(779, 13)\n",
      "    8 5_exp_pipeline_Claude35_Document_1.csv (111, 13)\n",
      "(890, 13)\n",
      "    9 5_exp_pipeline_Claude35_Chunk_25.csv (111, 13)\n",
      "(1001, 13)\n",
      "    10 5_exp_pipeline_Claude35_Document_3.csv (111, 13)\n",
      "(1112, 13)\n",
      "    11 5_exp_pipeline_Claude35_Document_2.csv (111, 13)\n",
      "(1223, 13)\n",
      "    12 5_exp_pipeline_Claude35_Chunk_15.csv (111, 13)\n",
      "(1334, 13)\n",
      "    13 5_exp_pipeline_Claude35_Chunk_3.csv (111, 13)\n",
      "(1445, 13)\n",
      "    14 5_exp_pipeline_Claude35_Neighbor_3.csv (111, 13)\n",
      "(1556, 13)\n",
      "    15 5_exp_pipeline_Claude35_Chunk_13.csv (111, 13)\n",
      "(1667, 13)\n",
      "    16 5_exp_pipeline_Claude35_Neighbor_7.csv (111, 13)\n",
      "(1778, 13)\n",
      "    17 5_exp_pipeline_Claude35_Chunk_7.csv (111, 13)\n",
      "(1889, 13)\n",
      "    18 5_exp_pipeline_Claude35_Chunk_12.csv (111, 13)\n",
      "(2000, 13)\n",
      "    19 5_exp_pipeline_Claude35_Chunk_10.csv (111, 13)\n",
      "(2111, 13)\n",
      "    20 5_exp_pipeline_Claude35_Neighbor_4.csv (111, 13)\n",
      "(2222, 13)\n",
      "    21 5_exp_pipeline_Claude35_Chunk_5.csv (111, 13)\n",
      "(2333, 13)\n",
      "    22 5_exp_pipeline_Claude35_Chunk_11.csv (111, 13)\n",
      "(2444, 13)\n",
      "    23 5_exp_pipeline_Claude35_Neighbor_12.csv (111, 13)\n",
      "(2555, 13)\n",
      "(2555, 13)\n"
     ]
    },
    {
     "data": {
      "text/plain": [
       "section           object\n",
       "title             object\n",
       "file_name         object\n",
       "document_type     object\n",
       "page               int64\n",
       "total_pages        int64\n",
       "context           object\n",
       "question          object\n",
       "golden_answer     object\n",
       "model             object\n",
       "Retrieval_Type    object\n",
       "Top_K             object\n",
       "Response          object\n",
       "dtype: object"
      ]
     },
     "execution_count": 5,
     "metadata": {},
     "output_type": "execute_result"
    }
   ],
   "source": [
    "import pandas as pd\n",
    "out_df = pd.DataFrame([])\n",
    "\n",
    "for jj in range(0, len(exp_files)):\n",
    "    df = pd.read_csv(FOLDER+\"/exp_output/\"+exp_files[jj])\n",
    "    df = df[df['Response'].isna() == False]\n",
    "    print('   ', jj, exp_files[jj], df.shape)\n",
    "    out_df = pd.concat([out_df, df])\n",
    "    out_df = out_df.drop_duplicates()\n",
    "    print(out_df.shape)\n",
    "\n",
    "# out_df = out_df[out_df['Retrieval_Type'] == 'Chunk']\n",
    "out_df['Top_K'] = out_df['Top_K'].astype(str)\n",
    "out_df['Retrieval_Type'] = out_df['Retrieval_Type'].astype(str)\n",
    "\n",
    "print(out_df.shape)\n",
    "out_df = out_df.reset_index(drop=True)\n",
    "out_df.dtypes"
   ]
  },
  {
   "cell_type": "code",
   "execution_count": 6,
   "metadata": {},
   "outputs": [
    {
     "data": {
      "text/plain": [
       "Retrieval_Type\n",
       "Chunk       1443\n",
       "Neighbor     666\n",
       "Document     446\n",
       "Name: count, dtype: int64"
      ]
     },
     "execution_count": 6,
     "metadata": {},
     "output_type": "execute_result"
    }
   ],
   "source": [
    "\n",
    "out_df['Retrieval_Type'].value_counts()\n"
   ]
  },
  {
   "cell_type": "code",
   "execution_count": 7,
   "metadata": {},
   "outputs": [
    {
     "data": {
      "text/plain": [
       "Top_K\n",
       "3     333\n",
       "25    222\n",
       "50    222\n",
       "4     222\n",
       "7     222\n",
       "12    222\n",
       "5     113\n",
       "20    111\n",
       "8     111\n",
       "9     111\n",
       "1     111\n",
       "2     111\n",
       "15    111\n",
       "13    111\n",
       "10    111\n",
       "11    111\n",
       "Name: count, dtype: int64"
      ]
     },
     "execution_count": 7,
     "metadata": {},
     "output_type": "execute_result"
    }
   ],
   "source": [
    "out_df['Top_K'].value_counts()"
   ]
  },
  {
   "cell_type": "code",
   "execution_count": 8,
   "metadata": {},
   "outputs": [],
   "source": [
    "# temp_out_df = out_df[out_df['Top_K'] == '12']\n",
    "# temp_out_df.reset_index(inplace=True)\n",
    "# temp_out_df['Response'].loc[100]"
   ]
  },
  {
   "cell_type": "code",
   "execution_count": 9,
   "metadata": {},
   "outputs": [],
   "source": [
    "out_df['question'] = out_df['question'].str.replace('\\n', '')\n",
    "out_df['Response'] = out_df['Response'].str.replace('\\n', '')\n",
    "out_df['context'] = out_df['context'].str.replace('\\n', '')\n",
    "\n",
    "out_df['similarity_score'] = 0.0\n",
    "out_df['BLEU'] = 0.0\n",
    "out_df['Cosine'] = 0.0\n",
    "out_df['topk_ret'] = ''\n",
    "\n",
    "out_df = out_df[['section', 'title', 'file_name', 'document_type', 'page', 'total_pages', 'context', 'question', 'golden_answer', \n",
    "         'model', 'Retrieval_Type', 'Top_K', 'topk_ret', 'Response', 'similarity_score', 'BLEU', 'Cosine']]\n",
    "\n",
    "\n",
    "#################################\n",
    "for i in range(0, len(out_df['question'])):\n",
    "    user_input = out_df['question'].iloc[i]\n",
    "    response = out_df['Response'].iloc[i]\n",
    "    golden_answer = out_df['golden_answer'].iloc[i]\n",
    "    Retrieval_Type = out_df['Retrieval_Type'].iloc[i]\n",
    "    Top_K = out_df['Top_K'].iloc[i]\n",
    "\n",
    "    similarity_score = fun.calculate_fuzzy_similarity(response, golden_answer)\n",
    "    out_df.loc[i, 'similarity_score'] = similarity_score\n",
    "    # print(f\"Fuzzy Similarity Score: {similarity_score}\")\n",
    "\n",
    "    tfidf_similarity = fun.calculate_tfidf_cosine_similarity(response, golden_answer)\n",
    "    out_df.loc[i, 'Cosine'] = tfidf_similarity\n",
    "    # print(f\"TF-IDF Cosine Similarity: {tfidf_similarity:.2f}\")\n",
    "\n",
    "    bleu_score = fun.calculate_bleu_score(response, golden_answer)\n",
    "    out_df.loc[i, 'BLEU'] = bleu_score\n",
    "    # print(f\"BLEU Score: {bleu_score:.2f}\")\n",
    "\n",
    "    out_df.loc[i, 'topk_ret'] = str(Retrieval_Type) + str(Top_K)\n"
   ]
  },
  {
   "cell_type": "code",
   "execution_count": 10,
   "metadata": {},
   "outputs": [
    {
     "data": {
      "text/html": [
       "<div>\n",
       "<style scoped>\n",
       "    .dataframe tbody tr th:only-of-type {\n",
       "        vertical-align: middle;\n",
       "    }\n",
       "\n",
       "    .dataframe tbody tr th {\n",
       "        vertical-align: top;\n",
       "    }\n",
       "\n",
       "    .dataframe thead th {\n",
       "        text-align: right;\n",
       "    }\n",
       "</style>\n",
       "<table border=\"1\" class=\"dataframe\">\n",
       "  <thead>\n",
       "    <tr style=\"text-align: right;\">\n",
       "      <th></th>\n",
       "      <th>similarity_score</th>\n",
       "      <th>BLEU</th>\n",
       "      <th>Cosine</th>\n",
       "    </tr>\n",
       "  </thead>\n",
       "  <tbody>\n",
       "    <tr>\n",
       "      <th>0</th>\n",
       "      <td>56.0</td>\n",
       "      <td>0.097433</td>\n",
       "      <td>0.750351</td>\n",
       "    </tr>\n",
       "  </tbody>\n",
       "</table>\n",
       "</div>"
      ],
      "text/plain": [
       "   similarity_score      BLEU    Cosine\n",
       "0              56.0  0.097433  0.750351"
      ]
     },
     "execution_count": 10,
     "metadata": {},
     "output_type": "execute_result"
    }
   ],
   "source": [
    "out_df[['similarity_score', 'BLEU', 'Cosine']].head(1)\n",
    "## golden to response\n",
    "##15.0\t0.097433\t0.750351\n",
    "\n",
    "##  context to golden_answer\n",
    "##17.0\t0.068107\t0.664086\n",
    "\n",
    "## context to response\n",
    "## 3.0\t0.085294\t0.684223"
   ]
  },
  {
   "cell_type": "code",
   "execution_count": 11,
   "metadata": {},
   "outputs": [
    {
     "data": {
      "text/html": [
       "<div>\n",
       "<style scoped>\n",
       "    .dataframe tbody tr th:only-of-type {\n",
       "        vertical-align: middle;\n",
       "    }\n",
       "\n",
       "    .dataframe tbody tr th {\n",
       "        vertical-align: top;\n",
       "    }\n",
       "\n",
       "    .dataframe thead th {\n",
       "        text-align: right;\n",
       "    }\n",
       "</style>\n",
       "<table border=\"1\" class=\"dataframe\">\n",
       "  <thead>\n",
       "    <tr style=\"text-align: right;\">\n",
       "      <th></th>\n",
       "      <th>context</th>\n",
       "      <th>question</th>\n",
       "      <th>golden_answer</th>\n",
       "      <th>Response</th>\n",
       "      <th>similarity_score</th>\n",
       "    </tr>\n",
       "  </thead>\n",
       "  <tbody>\n",
       "    <tr>\n",
       "      <th>0</th>\n",
       "      <td>['Fig. 4. A Euclidian single cluster dendrogram on the NPP procedures , where the numbers at the bottom are NPP procedur es in the codex. The numbers at the bottom of Fig. 4 are the identification number s associated with the procedures in the codex. A hierarchical cluster analysis is applied to the dissimilarity matrix for n clusters , where n is defined subjectively by the expert. Based on data configuration , the number of clusters selected is seven , corresponding the number of GOMS that are being investigated . This is then examined against the GOMS groups, which resulted in 11 accuracy. As such , further methods were considered for defining the GOMS type. Correlation Network . When investigating the dependence between multiple variables, a correlation matrix can be constructed. In this case , the correlation between procedures is being evaluated. The result is a matrix containing the correlation coefficient s between each of the procedures . While a matrix contains a lot of information, visualization of that data can be difficult and chaotic. Thus , a network was constructed to better visualize the correlation relationships between the stem words , as in Fig. 5. The thickness of the lines between the stem word nodes denotes the strength of the correlation. In addition to line thickness, the colo rs of the lines indicate if the correlation is positive black or negative grey . Oddly enough , there are no strong negative correlations, or thick grey lines , whereas there is a strong positive relationship between clump s of procedures . These clumps m ay lend themselves to mapping to the GOMS primitives however , there only appear to be 4 or 5 clumps at most, while seven GOMS primitives are defined in the codex . As such , another method to define the GOMS primitives was explored .']</td>\n",
       "      <td>What are the limitations of the correlation matrix in visualizing the relationships between procedures, and how does the correlation network address these limitations?</td>\n",
       "      <td>The text states that while a correlation matrix contains a lot of information, visualizing it can be difficult and chaotic. This is likely because the matrix represents a complex network of relationships, making it difficult to identify patterns or trends. The correlation network addresses these limitations by providing a more intuitive visual representation. The thickness of the lines represents the strength of the correlation, and the colors indicate whether the correlation is positive or negative, making it easier to understand the relationships between procedures. This allows for a more effective visualization of the data and helps to identify potential groupings of procedures.</td>\n",
       "      <td>The correlation matrix and correlation network are two ways of visualizing the relationships between procedures, but the correlation network addresses some key limitations of the correlation matrix:1. The correlation matrix contains a lot of information, but visualizing that data can be difficult and chaotic. The correlation network provides a clearer visual representation of the relationships.2. In the correlation network, the thickness of the lines between nodes denotes the strength of the correlation. This allows for easier interpretation of correlation strength compared to a matrix of numbers.3. The network uses colors to indicate positive (black) vs negative (grey) correlations, which is not easily shown in a standard correlation matrix.4. The network layout allows for easier identification of clusters or \"clumps\" of highly correlated procedures. These clumps are harder to detect in a matrix format.5. The network can more clearly show which procedures are uncorrelated, as they will have few or no connections to other nodes. 6. Complex relationships between multiple procedures are easier to trace visually in the network compared to cross-referencing numbers in a matrix.7. The matrix becomes unwieldy for large numbers of procedures, while the network can still provide a meaningful visualization with many nodes.In summary, the correlation network provides a more intuitive and information-rich visualization of the relationships between procedures compared to the raw correlation matrix, allowing for easier detection of patterns and clusters. However, it does not contain the precise numerical correlation values that a matrix would provide.</td>\n",
       "      <td>56.0</td>\n",
       "    </tr>\n",
       "    <tr>\n",
       "      <th>111</th>\n",
       "      <td>['Fig. 4. A Euclidian single cluster dendrogram on the NPP procedures , where the numbers at the bottom are NPP procedur es in the codex. The numbers at the bottom of Fig. 4 are the identification number s associated with the procedures in the codex. A hierarchical cluster analysis is applied to the dissimilarity matrix for n clusters , where n is defined subjectively by the expert. Based on data configuration , the number of clusters selected is seven , corresponding the number of GOMS that are being investigated . This is then examined against the GOMS groups, which resulted in 11 accuracy. As such , further methods were considered for defining the GOMS type. Correlation Network . When investigating the dependence between multiple variables, a correlation matrix can be constructed. In this case , the correlation between procedures is being evaluated. The result is a matrix containing the correlation coefficient s between each of the procedures . While a matrix contains a lot of information, visualization of that data can be difficult and chaotic. Thus , a network was constructed to better visualize the correlation relationships between the stem words , as in Fig. 5. The thickness of the lines between the stem word nodes denotes the strength of the correlation. In addition to line thickness, the colo rs of the lines indicate if the correlation is positive black or negative grey . Oddly enough , there are no strong negative correlations, or thick grey lines , whereas there is a strong positive relationship between clump s of procedures . These clumps m ay lend themselves to mapping to the GOMS primitives however , there only appear to be 4 or 5 clumps at most, while seven GOMS primitives are defined in the codex . As such , another method to define the GOMS primitives was explored .']</td>\n",
       "      <td>What are the limitations of the correlation matrix in visualizing the relationships between procedures, and how does the correlation network address these limitations?</td>\n",
       "      <td>The text states that while a correlation matrix contains a lot of information, visualizing it can be difficult and chaotic. This is likely because the matrix represents a complex network of relationships, making it difficult to identify patterns or trends. The correlation network addresses these limitations by providing a more intuitive visual representation. The thickness of the lines represents the strength of the correlation, and the colors indicate whether the correlation is positive or negative, making it easier to understand the relationships between procedures. This allows for a more effective visualization of the data and helps to identify potential groupings of procedures.</td>\n",
       "      <td>The correlation matrix and correlation network both aim to visualize relationships between procedures, but the correlation network addresses some key limitations of the correlation matrix:1. Complexity with large datasets: A correlation matrix becomes very large and difficult to interpret visually as the number of procedures increases. The correlation network can more clearly show relationships even with many procedures.2. Difficulty seeing patterns: In a large correlation matrix, it's hard to discern overall patterns and groupings. The network layout algorithm in the correlation network spatially organizes procedures to reveal clusters and patterns.3. Limited representation of strength: A correlation matrix typically uses color shading to show correlation strength, which can be hard to distinguish precisely. The correlation network uses line thickness to more clearly depict correlation strength.4. Lack of negative correlation visualization: Correlation matrices often don't clearly show negative correlations. The correlation network uses gray lines to explicitly show negative correlations.5. Information overload: Correlation matrices show all pairwise correlations, even weak ones. The correlation network can filter out weak correlations to focus on the strongest relationships.6. Static view: The correlation matrix provides a fixed view. The correlation network can be interactive, allowing zooming, filtering, etc.7. Limited dimensionality: The matrix is inherently 2D. The network can utilize 3D layouts to potentially reveal additional structure.8. Difficulty comparing groups: It's challenging to compare correlation patterns between groups of procedures in a matrix. The network layout makes it easier to see how groups relate.So in summary, while the correlation matrix provides a comprehensive view of all pairwise correlations, the network representation allows for a more intuitive visualization of the key relationships and patterns, especially for larger datasets. The network addresses many of the perceptual and cognitive limitations of interpreting large correlation matrices.</td>\n",
       "      <td>51.0</td>\n",
       "    </tr>\n",
       "  </tbody>\n",
       "</table>\n",
       "</div>"
      ],
      "text/plain": [
       "                                                                                                                                                                                                                                                                                                                                                                                                                                                                                                                                                                                                                                                                                                                                                                                                                                                                                                                                                                                                                                                                                                                                                                                                                                                                                                                                                                                                                                                                                                                                                                                                                                                                                                                                                                                                                                                                                     context  \\\n",
       "0    ['Fig. 4. A Euclidian single cluster dendrogram on the NPP procedures , where the numbers at the bottom are NPP procedur es in the codex. The numbers at the bottom of Fig. 4 are the identification number s associated with the procedures in the codex. A hierarchical cluster analysis is applied to the dissimilarity matrix for n clusters , where n is defined subjectively by the expert. Based on data configuration , the number of clusters selected is seven , corresponding the number of GOMS that are being investigated . This is then examined against the GOMS groups, which resulted in 11 accuracy. As such , further methods were considered for defining the GOMS type. Correlation Network . When investigating the dependence between multiple variables, a correlation matrix can be constructed. In this case , the correlation between procedures is being evaluated. The result is a matrix containing the correlation coefficient s between each of the procedures . While a matrix contains a lot of information, visualization of that data can be difficult and chaotic. Thus , a network was constructed to better visualize the correlation relationships between the stem words , as in Fig. 5. The thickness of the lines between the stem word nodes denotes the strength of the correlation. In addition to line thickness, the colo rs of the lines indicate if the correlation is positive black or negative grey . Oddly enough , there are no strong negative correlations, or thick grey lines , whereas there is a strong positive relationship between clump s of procedures . These clumps m ay lend themselves to mapping to the GOMS primitives however , there only appear to be 4 or 5 clumps at most, while seven GOMS primitives are defined in the codex . As such , another method to define the GOMS primitives was explored .']   \n",
       "111  ['Fig. 4. A Euclidian single cluster dendrogram on the NPP procedures , where the numbers at the bottom are NPP procedur es in the codex. The numbers at the bottom of Fig. 4 are the identification number s associated with the procedures in the codex. A hierarchical cluster analysis is applied to the dissimilarity matrix for n clusters , where n is defined subjectively by the expert. Based on data configuration , the number of clusters selected is seven , corresponding the number of GOMS that are being investigated . This is then examined against the GOMS groups, which resulted in 11 accuracy. As such , further methods were considered for defining the GOMS type. Correlation Network . When investigating the dependence between multiple variables, a correlation matrix can be constructed. In this case , the correlation between procedures is being evaluated. The result is a matrix containing the correlation coefficient s between each of the procedures . While a matrix contains a lot of information, visualization of that data can be difficult and chaotic. Thus , a network was constructed to better visualize the correlation relationships between the stem words , as in Fig. 5. The thickness of the lines between the stem word nodes denotes the strength of the correlation. In addition to line thickness, the colo rs of the lines indicate if the correlation is positive black or negative grey . Oddly enough , there are no strong negative correlations, or thick grey lines , whereas there is a strong positive relationship between clump s of procedures . These clumps m ay lend themselves to mapping to the GOMS primitives however , there only appear to be 4 or 5 clumps at most, while seven GOMS primitives are defined in the codex . As such , another method to define the GOMS primitives was explored .']   \n",
       "\n",
       "                                                                                                                                                                     question  \\\n",
       "0     What are the limitations of the correlation matrix in visualizing the relationships between procedures, and how does the correlation network address these limitations?   \n",
       "111   What are the limitations of the correlation matrix in visualizing the relationships between procedures, and how does the correlation network address these limitations?   \n",
       "\n",
       "                                                                                                                                                                                                                                                                                                                                                                                                                                                                                                                                                                                                                                                                                                           golden_answer  \\\n",
       "0     The text states that while a correlation matrix contains a lot of information, visualizing it can be difficult and chaotic. This is likely because the matrix represents a complex network of relationships, making it difficult to identify patterns or trends. The correlation network addresses these limitations by providing a more intuitive visual representation. The thickness of the lines represents the strength of the correlation, and the colors indicate whether the correlation is positive or negative, making it easier to understand the relationships between procedures. This allows for a more effective visualization of the data and helps to identify potential groupings of procedures.   \n",
       "111   The text states that while a correlation matrix contains a lot of information, visualizing it can be difficult and chaotic. This is likely because the matrix represents a complex network of relationships, making it difficult to identify patterns or trends. The correlation network addresses these limitations by providing a more intuitive visual representation. The thickness of the lines represents the strength of the correlation, and the colors indicate whether the correlation is positive or negative, making it easier to understand the relationships between procedures. This allows for a more effective visualization of the data and helps to identify potential groupings of procedures.   \n",
       "\n",
       "                                                                                                                                                                                                                                                                                                                                                                                                                                                                                                                                                                                                                                                                                                                                                                                                                                                                                                                                                                                                                                                                                                                                                                                                                                                                                                                                                                                                                                                                                                                                                                                                                                                                                                                                                                                                                                                                                                                                                                                                                                                                                                                                                                                            Response  \\\n",
       "0                                                                                                                                                                                                                                                                                                                                                                                                                                                                 The correlation matrix and correlation network are two ways of visualizing the relationships between procedures, but the correlation network addresses some key limitations of the correlation matrix:1. The correlation matrix contains a lot of information, but visualizing that data can be difficult and chaotic. The correlation network provides a clearer visual representation of the relationships.2. In the correlation network, the thickness of the lines between nodes denotes the strength of the correlation. This allows for easier interpretation of correlation strength compared to a matrix of numbers.3. The network uses colors to indicate positive (black) vs negative (grey) correlations, which is not easily shown in a standard correlation matrix.4. The network layout allows for easier identification of clusters or \"clumps\" of highly correlated procedures. These clumps are harder to detect in a matrix format.5. The network can more clearly show which procedures are uncorrelated, as they will have few or no connections to other nodes. 6. Complex relationships between multiple procedures are easier to trace visually in the network compared to cross-referencing numbers in a matrix.7. The matrix becomes unwieldy for large numbers of procedures, while the network can still provide a meaningful visualization with many nodes.In summary, the correlation network provides a more intuitive and information-rich visualization of the relationships between procedures compared to the raw correlation matrix, allowing for easier detection of patterns and clusters. However, it does not contain the precise numerical correlation values that a matrix would provide.   \n",
       "111  The correlation matrix and correlation network both aim to visualize relationships between procedures, but the correlation network addresses some key limitations of the correlation matrix:1. Complexity with large datasets: A correlation matrix becomes very large and difficult to interpret visually as the number of procedures increases. The correlation network can more clearly show relationships even with many procedures.2. Difficulty seeing patterns: In a large correlation matrix, it's hard to discern overall patterns and groupings. The network layout algorithm in the correlation network spatially organizes procedures to reveal clusters and patterns.3. Limited representation of strength: A correlation matrix typically uses color shading to show correlation strength, which can be hard to distinguish precisely. The correlation network uses line thickness to more clearly depict correlation strength.4. Lack of negative correlation visualization: Correlation matrices often don't clearly show negative correlations. The correlation network uses gray lines to explicitly show negative correlations.5. Information overload: Correlation matrices show all pairwise correlations, even weak ones. The correlation network can filter out weak correlations to focus on the strongest relationships.6. Static view: The correlation matrix provides a fixed view. The correlation network can be interactive, allowing zooming, filtering, etc.7. Limited dimensionality: The matrix is inherently 2D. The network can utilize 3D layouts to potentially reveal additional structure.8. Difficulty comparing groups: It's challenging to compare correlation patterns between groups of procedures in a matrix. The network layout makes it easier to see how groups relate.So in summary, while the correlation matrix provides a comprehensive view of all pairwise correlations, the network representation allows for a more intuitive visualization of the key relationships and patterns, especially for larger datasets. The network addresses many of the perceptual and cognitive limitations of interpreting large correlation matrices.   \n",
       "\n",
       "     similarity_score  \n",
       "0                56.0  \n",
       "111              51.0  "
      ]
     },
     "execution_count": 11,
     "metadata": {},
     "output_type": "execute_result"
    }
   ],
   "source": [
    "pd.set_option('display.max_colwidth', None)\n",
    "out_df = out_df[(out_df['topk_ret'] != 'Document5')]\n",
    "\n",
    "out_df[['context', 'question', 'golden_answer', 'Response', 'similarity_score']][out_df['question'] == ' What are the limitations of the correlation matrix in visualizing the relationships between procedures, and how does the correlation network address these limitations?'].head(2)"
   ]
  },
  {
   "cell_type": "code",
   "execution_count": 12,
   "metadata": {},
   "outputs": [
    {
     "data": {
      "text/plain": [
       "Index(['section', 'title', 'file_name', 'document_type', 'page', 'total_pages',\n",
       "       'context', 'question', 'golden_answer', 'model', 'Retrieval_Type',\n",
       "       'Top_K', 'topk_ret', 'Response', 'similarity_score', 'BLEU', 'Cosine'],\n",
       "      dtype='object')"
      ]
     },
     "execution_count": 12,
     "metadata": {},
     "output_type": "execute_result"
    }
   ],
   "source": [
    "out_df.columns"
   ]
  },
  {
   "cell_type": "code",
   "execution_count": 13,
   "metadata": {},
   "outputs": [
    {
     "data": {
      "image/png": "[encoded data removed]",
      "text/plain": [
       "<Figure size 640x480 with 1 Axes>"
      ]
     },
     "metadata": {},
     "output_type": "display_data"
    }
   ],
   "source": [
    "import matplotlib.pyplot as plt\n",
    "# Group by 'Profession' and plot histogram of 'Age'\n",
    "temp_out_df = out_df[(out_df['topk_ret'] == 'Chunk10')| (out_df['topk_ret'] == 'Chunk15')| (out_df['topk_ret'] == 'Chunk7')]\n",
    "temp_out_df.groupby(['topk_ret'])['similarity_score'].hist(alpha=0.4)\n",
    "\n",
    "# Add legend and labels\n",
    "plt.legend(temp_out_df['topk_ret'].unique())\n",
    "plt.xlabel('similarity_score')\n",
    "plt.ylabel('Frequency')\n",
    "plt.title('similarity_score Distribution')\n",
    "\n",
    "# Show the plot\n",
    "plt.show()"
   ]
  },
  {
   "cell_type": "code",
   "execution_count": 14,
   "metadata": {},
   "outputs": [],
   "source": [
    "means_df = pd.DataFrame(out_df.groupby(['topk_ret'])['similarity_score'].mean())\n",
    "means_df.reset_index(drop=False, inplace=True)\n",
    "means_df.sort_values(by=['similarity_score'], ascending=False, inplace=True)\n",
    "means_df.reset_index(drop=True)\n",
    "\n",
    "means_df['similarity_score'] = means_df['similarity_score'] /100\n",
    "\n",
    "means_df.to_csv('6_similarity_score.csv')"
   ]
  },
  {
   "cell_type": "code",
   "execution_count": 15,
   "metadata": {},
   "outputs": [],
   "source": [
    "means_df = pd.DataFrame(out_df.groupby(['topk_ret'])['Cosine'].mean())\n",
    "means_df.reset_index(drop=False, inplace=True)\n",
    "means_df.sort_values(by=['Cosine'], ascending=False)\n",
    "\n",
    "means_df.to_csv('6_cosine_sim.csv')"
   ]
  },
  {
   "cell_type": "code",
   "execution_count": 16,
   "metadata": {},
   "outputs": [],
   "source": [
    "means_df = pd.DataFrame(out_df.groupby(['topk_ret'])['BLEU'].mean())\n",
    "means_df.reset_index(drop=False, inplace=True)\n",
    "means_df.sort_values(by=['BLEU'], ascending=False)\n",
    "\n",
    "means_df.to_csv('6_BLEU.csv')"
   ]
  },
  {
   "cell_type": "code",
   "execution_count": 20,
   "metadata": {},
   "outputs": [
    {
     "data": {
      "text/html": [
       "<div>\n",
       "<style scoped>\n",
       "    .dataframe tbody tr th:only-of-type {\n",
       "        vertical-align: middle;\n",
       "    }\n",
       "\n",
       "    .dataframe tbody tr th {\n",
       "        vertical-align: top;\n",
       "    }\n",
       "\n",
       "    .dataframe thead th {\n",
       "        text-align: right;\n",
       "    }\n",
       "</style>\n",
       "<table border=\"1\" class=\"dataframe\">\n",
       "  <thead>\n",
       "    <tr style=\"text-align: right;\">\n",
       "      <th></th>\n",
       "      <th>BLEU</th>\n",
       "      <th>Cosine</th>\n",
       "      <th>similarity_score</th>\n",
       "    </tr>\n",
       "    <tr>\n",
       "      <th>topk_ret</th>\n",
       "      <th></th>\n",
       "      <th></th>\n",
       "      <th></th>\n",
       "    </tr>\n",
       "  </thead>\n",
       "  <tbody>\n",
       "    <tr>\n",
       "      <th>Chunk10</th>\n",
       "      <td>0.057849</td>\n",
       "      <td>0.625676</td>\n",
       "      <td>0.532973</td>\n",
       "    </tr>\n",
       "    <tr>\n",
       "      <th>Chunk11</th>\n",
       "      <td>0.057718</td>\n",
       "      <td>0.626121</td>\n",
       "      <td>0.528198</td>\n",
       "    </tr>\n",
       "    <tr>\n",
       "      <th>Chunk12</th>\n",
       "      <td>0.056433</td>\n",
       "      <td>0.617583</td>\n",
       "      <td>0.527838</td>\n",
       "    </tr>\n",
       "    <tr>\n",
       "      <th>Chunk13</th>\n",
       "      <td>0.057182</td>\n",
       "      <td>0.626239</td>\n",
       "      <td>0.526216</td>\n",
       "    </tr>\n",
       "    <tr>\n",
       "      <th>Chunk15</th>\n",
       "      <td>0.057153</td>\n",
       "      <td>0.608640</td>\n",
       "      <td>0.528559</td>\n",
       "    </tr>\n",
       "    <tr>\n",
       "      <th>Chunk20</th>\n",
       "      <td>0.056936</td>\n",
       "      <td>0.613893</td>\n",
       "      <td>0.527748</td>\n",
       "    </tr>\n",
       "    <tr>\n",
       "      <th>Chunk25</th>\n",
       "      <td>0.057521</td>\n",
       "      <td>0.610425</td>\n",
       "      <td>0.526486</td>\n",
       "    </tr>\n",
       "    <tr>\n",
       "      <th>Chunk3</th>\n",
       "      <td>0.057827</td>\n",
       "      <td>0.634084</td>\n",
       "      <td>0.529099</td>\n",
       "    </tr>\n",
       "    <tr>\n",
       "      <th>Chunk5</th>\n",
       "      <td>0.055870</td>\n",
       "      <td>0.636200</td>\n",
       "      <td>0.527658</td>\n",
       "    </tr>\n",
       "    <tr>\n",
       "      <th>Chunk50</th>\n",
       "      <td>0.059366</td>\n",
       "      <td>0.618343</td>\n",
       "      <td>0.531351</td>\n",
       "    </tr>\n",
       "    <tr>\n",
       "      <th>Chunk7</th>\n",
       "      <td>0.057493</td>\n",
       "      <td>0.626422</td>\n",
       "      <td>0.531712</td>\n",
       "    </tr>\n",
       "    <tr>\n",
       "      <th>Chunk8</th>\n",
       "      <td>0.058432</td>\n",
       "      <td>0.633940</td>\n",
       "      <td>0.530270</td>\n",
       "    </tr>\n",
       "    <tr>\n",
       "      <th>Chunk9</th>\n",
       "      <td>0.055191</td>\n",
       "      <td>0.622929</td>\n",
       "      <td>0.530000</td>\n",
       "    </tr>\n",
       "    <tr>\n",
       "      <th>Document1</th>\n",
       "      <td>0.048307</td>\n",
       "      <td>0.597685</td>\n",
       "      <td>0.514685</td>\n",
       "    </tr>\n",
       "    <tr>\n",
       "      <th>Document2</th>\n",
       "      <td>0.046645</td>\n",
       "      <td>0.585306</td>\n",
       "      <td>0.512703</td>\n",
       "    </tr>\n",
       "    <tr>\n",
       "      <th>Document3</th>\n",
       "      <td>0.046453</td>\n",
       "      <td>0.578506</td>\n",
       "      <td>0.513333</td>\n",
       "    </tr>\n",
       "    <tr>\n",
       "      <th>Document4</th>\n",
       "      <td>0.045502</td>\n",
       "      <td>0.569626</td>\n",
       "      <td>0.511712</td>\n",
       "    </tr>\n",
       "    <tr>\n",
       "      <th>Neighbor12</th>\n",
       "      <td>0.053486</td>\n",
       "      <td>0.612191</td>\n",
       "      <td>0.525405</td>\n",
       "    </tr>\n",
       "    <tr>\n",
       "      <th>Neighbor25</th>\n",
       "      <td>0.053135</td>\n",
       "      <td>0.607974</td>\n",
       "      <td>0.522883</td>\n",
       "    </tr>\n",
       "    <tr>\n",
       "      <th>Neighbor3</th>\n",
       "      <td>0.054045</td>\n",
       "      <td>0.621801</td>\n",
       "      <td>0.525135</td>\n",
       "    </tr>\n",
       "    <tr>\n",
       "      <th>Neighbor4</th>\n",
       "      <td>0.051759</td>\n",
       "      <td>0.619983</td>\n",
       "      <td>0.521171</td>\n",
       "    </tr>\n",
       "    <tr>\n",
       "      <th>Neighbor50</th>\n",
       "      <td>0.048305</td>\n",
       "      <td>0.602094</td>\n",
       "      <td>0.517748</td>\n",
       "    </tr>\n",
       "    <tr>\n",
       "      <th>Neighbor7</th>\n",
       "      <td>0.052848</td>\n",
       "      <td>0.609662</td>\n",
       "      <td>0.525135</td>\n",
       "    </tr>\n",
       "  </tbody>\n",
       "</table>\n",
       "</div>"
      ],
      "text/plain": [
       "                BLEU    Cosine  similarity_score\n",
       "topk_ret                                        \n",
       "Chunk10     0.057849  0.625676          0.532973\n",
       "Chunk11     0.057718  0.626121          0.528198\n",
       "Chunk12     0.056433  0.617583          0.527838\n",
       "Chunk13     0.057182  0.626239          0.526216\n",
       "Chunk15     0.057153  0.608640          0.528559\n",
       "Chunk20     0.056936  0.613893          0.527748\n",
       "Chunk25     0.057521  0.610425          0.526486\n",
       "Chunk3      0.057827  0.634084          0.529099\n",
       "Chunk5      0.055870  0.636200          0.527658\n",
       "Chunk50     0.059366  0.618343          0.531351\n",
       "Chunk7      0.057493  0.626422          0.531712\n",
       "Chunk8      0.058432  0.633940          0.530270\n",
       "Chunk9      0.055191  0.622929          0.530000\n",
       "Document1   0.048307  0.597685          0.514685\n",
       "Document2   0.046645  0.585306          0.512703\n",
       "Document3   0.046453  0.578506          0.513333\n",
       "Document4   0.045502  0.569626          0.511712\n",
       "Neighbor12  0.053486  0.612191          0.525405\n",
       "Neighbor25  0.053135  0.607974          0.522883\n",
       "Neighbor3   0.054045  0.621801          0.525135\n",
       "Neighbor4   0.051759  0.619983          0.521171\n",
       "Neighbor50  0.048305  0.602094          0.517748\n",
       "Neighbor7   0.052848  0.609662          0.525135"
      ]
     },
     "execution_count": 20,
     "metadata": {},
     "output_type": "execute_result"
    }
   ],
   "source": [
    "means_df = pd.DataFrame(out_df.groupby(['topk_ret'])[['BLEU', 'Cosine', 'similarity_score']].mean())\n",
    "means_df['similarity_score'] = means_df['similarity_score'] /100\n",
    "means_df.to_csv('6_metrics_pub.csv')\n",
    "means_df"
   ]
  },
  {
   "cell_type": "code",
   "execution_count": 18,
   "metadata": {},
   "outputs": [],
   "source": [
    "## next up: \n",
    "## chunk 11, chunk 13, chunk 14, 9\n",
    "### neighbor 5"
   ]
  }
 ],
 "metadata": {
  "kernelspec": {
   "display_name": "Python 3",
   "language": "python",
   "name": "python3"
  },
  "language_info": {
   "codemirror_mode": {
    "name": "ipython",
    "version": 3
   },
   "file_extension": ".py",
   "mimetype": "text/x-python",
   "name": "python",
   "nbconvert_exporter": "python",
   "pygments_lexer": "ipython3",
   "version": "3.9.6"
  }
 },
 "nbformat": 4,
 "nbformat_minor": 2
}
