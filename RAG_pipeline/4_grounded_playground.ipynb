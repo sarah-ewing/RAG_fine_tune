{
 "cells": [
  {
   "cell_type": "code",
   "execution_count": 1,
   "metadata": {},
   "outputs": [
    {
     "name": "stdout",
     "output_type": "stream",
     "text": [
      "Collecting matplotlib\n",
      "  Downloading matplotlib-3.10.0-cp311-cp311-win_amd64.whl.metadata (11 kB)\n",
      "Collecting contourpy>=1.0.1 (from matplotlib)\n",
      "  Downloading contourpy-1.3.1-cp311-cp311-win_amd64.whl.metadata (5.4 kB)\n",
      "Collecting cycler>=0.10 (from matplotlib)\n",
      "  Using cached cycler-0.12.1-py3-none-any.whl.metadata (3.8 kB)\n",
      "Collecting fonttools>=4.22.0 (from matplotlib)\n",
      "  Downloading fonttools-4.55.8-cp311-cp311-win_amd64.whl.metadata (103 kB)\n",
      "Collecting kiwisolver>=1.3.1 (from matplotlib)\n",
      "  Downloading kiwisolver-1.4.8-cp311-cp311-win_amd64.whl.metadata (6.3 kB)\n",
      "Requirement already satisfied: numpy>=1.23 in c:\\users\\onyxs\\appdata\\local\\programs\\python\\python311\\lib\\site-packages (from matplotlib) (1.26.4)\n",
      "Requirement already satisfied: packaging>=20.0 in c:\\users\\onyxs\\appdata\\roaming\\python\\python311\\site-packages (from matplotlib) (24.2)\n",
      "Requirement already satisfied: pillow>=8 in c:\\users\\onyxs\\appdata\\local\\programs\\python\\python311\\lib\\site-packages (from matplotlib) (11.1.0)\n",
      "Collecting pyparsing>=2.3.1 (from matplotlib)\n",
      "  Downloading pyparsing-3.2.1-py3-none-any.whl.metadata (5.0 kB)\n",
      "Requirement already satisfied: python-dateutil>=2.7 in c:\\users\\onyxs\\appdata\\roaming\\python\\python311\\site-packages (from matplotlib) (2.9.0.post0)\n",
      "Requirement already satisfied: six>=1.5 in c:\\users\\onyxs\\appdata\\roaming\\python\\python311\\site-packages (from python-dateutil>=2.7->matplotlib) (1.17.0)\n",
      "Downloading matplotlib-3.10.0-cp311-cp311-win_amd64.whl (8.0 MB)\n",
      "   ---------------------------------------- 0.0/8.0 MB ? eta -:--:--\n",
      "   ------------------------ --------------- 5.0/8.0 MB 30.2 MB/s eta 0:00:01\n",
      "   ---------------------------------------- 8.0/8.0 MB 31.1 MB/s eta 0:00:00\n",
      "Downloading contourpy-1.3.1-cp311-cp311-win_amd64.whl (219 kB)\n",
      "Using cached cycler-0.12.1-py3-none-any.whl (8.3 kB)\n",
      "Downloading fonttools-4.55.8-cp311-cp311-win_amd64.whl (2.2 MB)\n",
      "   ---------------------------------------- 0.0/2.2 MB ? eta -:--:--\n",
      "   ---------------------------------------- 2.2/2.2 MB 41.3 MB/s eta 0:00:00\n",
      "Downloading kiwisolver-1.4.8-cp311-cp311-win_amd64.whl (71 kB)\n",
      "Downloading pyparsing-3.2.1-py3-none-any.whl (107 kB)\n",
      "Installing collected packages: pyparsing, kiwisolver, fonttools, cycler, contourpy, matplotlib\n",
      "Successfully installed contourpy-1.3.1 cycler-0.12.1 fonttools-4.55.8 kiwisolver-1.4.8 matplotlib-3.10.0 pyparsing-3.2.1\n"
     ]
    }
   ],
   "source": [
    "# !pip install ragas\n",
    "# !pip install transformers\n",
    "# !pip3 install torch torchvision torchaudio\n",
    "# ! pip install pydantic==2.7.3\n",
    "# !C:\\Users\\onyxs\\AppData\\Local\\Microsoft\\WindowsApps\\PythonSoftwareFoundation.Python.3.12_qbz5n2kfra8p0\\python.exe -m pip install langchain_core --upgrade\n",
    "# !pip install -U pydantic pydantic_core \n",
    "\n",
    "### python 3.12 can run this you have to be in 3.11\n",
    "# !C:\\Users\\onyxs\\AppData\\Local\\Programs\\Python\\Python311\\python.exe -m pip install --upgrade ipywidgets jupyter \n",
    "# !C:\\Users\\onyxs\\AppData\\Local\\Programs\\Python\\Python311\\python.exe -m pip install --upgrade pip\n",
    "# !C:\\Users\\onyxs\\AppData\\Local\\Programs\\Python\\Python311\\python.exe -m pip install --upgrade ragas\n",
    "# !C:\\Users\\onyxs\\AppData\\Local\\Programs\\Python\\Python311\\python.exe -m pip install --upgrade transformers\n",
    "#!C:\\Users\\onyxs\\AppData\\Local\\Programs\\Python\\Python311\\python.exe -m pip install torch torchvision torchaudio --index-url https://download.pytorch.org/whl/cu118\n",
    "\n",
    "# !C:\\Users\\onyxs\\AppData\\Local\\Programs\\Python\\Python311\\python.exe -m pip install TensorFlow Flax \n",
    "# !C:\\Users\\onyxs\\AppData\\Local\\Programs\\Python\\Python311\\python.exe -m pip install fuzzywuzzy python-Levenshtein\n",
    "# !C:\\Users\\onyxs\\AppData\\Local\\Programs\\Python\\Python311\\python.exe -m pip install scikit-learn nltk\n",
    "!C:\\Users\\onyxs\\AppData\\Local\\Programs\\Python\\Python311\\python.exe -m pip install matplotlib "
   ]
  },
  {
   "cell_type": "code",
   "execution_count": 2,
   "metadata": {},
   "outputs": [
    {
     "data": {
      "text/plain": [
       "True"
      ]
     },
     "execution_count": 2,
     "metadata": {},
     "output_type": "execute_result"
    }
   ],
   "source": [
    "import torch\n",
    "torch.cuda.is_available()"
   ]
  },
  {
   "cell_type": "code",
   "execution_count": 3,
   "metadata": {},
   "outputs": [],
   "source": [
    "from ragas.dataset_schema import SingleTurnSample \n",
    "from ragas.metrics import FaithfulnesswithHHEM"
   ]
  },
  {
   "cell_type": "code",
   "execution_count": 10,
   "metadata": {},
   "outputs": [],
   "source": [
    "# from ragas.dataset_schema import SingleTurnSample \n",
    "# from ragas.metrics import FaithfulnesswithHHEM\n",
    "# from transformers import AutoModelForSeq2SeqLM\n",
    "\n",
    "# my_device = \"cuda:0\"\n",
    "# my_batch_size = 10\n",
    "\n",
    "# sample = SingleTurnSample(\n",
    "#         user_input=\"When was the first super bowl?\",\n",
    "#         response=\"The first superbowl was held on Jan 15, 1967\",\n",
    "#         retrieved_contexts=[\n",
    "#             \"The First AFL–NFL World Championship Game was an American football game played on January 15, 1967, at the Los Angeles Memorial Coliseum in Los Angeles.\"\n",
    "#         ]\n",
    "#     )\n",
    "\n",
    "# my_device = \"cuda:0\" if torch.cuda.is_available() else \"cpu\"\n",
    "# model_name = \"google/flan-t5-xl\"  # Or a smaller model for testing\n",
    "# model = AutoModelForSeq2SeqLM.from_pretrained(model_name).to(my_device)\n",
    "\n",
    "# scorer = FaithfulnesswithHHEM(llm=model, device=my_device)\n",
    "\n",
    "# scorer.single_turn_score(sample)"
   ]
  },
  {
   "cell_type": "code",
   "execution_count": 9,
   "metadata": {},
   "outputs": [],
   "source": [
    "# import asyncio\n",
    "# from ragas.dataset_schema import SingleTurnSample\n",
    "# from ragas.metrics import FaithfulnesswithHHEM\n",
    "# from transformers import AutoModelForSeq2SeqLM\n",
    "# import torch\n",
    "\n",
    "# async def evaluate_faithfulness():  # Define an async function\n",
    "#     my_device = \"cuda:0\" if torch.cuda.is_available() else \"cpu\"\n",
    "#     model_name = \"google/flan-t5-xl\"\n",
    "#     model = AutoModelForSeq2SeqLM.from_pretrained(model_name).to(my_device)\n",
    "\n",
    "#     scorer = FaithfulnesswithHHEM(llm=model, device=my_device)\n",
    "\n",
    "#     sample = SingleTurnSample(\n",
    "#         user_input=\"When was the first super bowl?\",\n",
    "#         response=\"The first superbowl was held on Jan 15, 1967\",\n",
    "#         retrieved_contexts=[\n",
    "#             \"The First AFL–NFL World Championship Game was an American football game played on January 15, 1967, at the Los Angeles Memorial Coliseum in Los Angeles.\"\n",
    "#         ]\n",
    "#     )\n",
    "\n",
    "#     result = await scorer.single_turn_score(sample)  # Await the result\n",
    "#     print(result)\n",
    "\n",
    "# # Run the async function\n",
    "# asyncio.run(evaluate_faithfulness()) # Correct way to use it"
   ]
  },
  {
   "cell_type": "code",
   "execution_count": 8,
   "metadata": {},
   "outputs": [
    {
     "name": "stdout",
     "output_type": "stream",
     "text": [
      "Fuzzy Similarity Score: 38\n",
      "Similarity with context 'The First AFL–NFL World Championship Game was on January 15, 1967.': 59\n",
      "Similarity with context 'Super Bowl I was played in 1967.': 57\n",
      "Similarity with context 'This is completely unrelated.': 38\n"
     ]
    }
   ],
   "source": [
    "from fuzzywuzzy import fuzz\n",
    "\n",
    "def calculate_fuzzy_similarity(response, context):\n",
    "    return fuzz.ratio(response, context)  # Or use other fuzzywuzzy functions\n",
    "\n",
    "user_input = \"When was the first super bowl?\"\n",
    "response = \"The first superbowl was held on Jan 15, 1967.\"\n",
    "retrieved_context = \"The First AFL–NFL World Championship Game was an American football game played on January 15, 1967, at the Los Angeles Memorial Coliseum in Los Angeles.\"\n",
    "\n",
    "similarity_score = calculate_fuzzy_similarity(response, retrieved_context)\n",
    "print(f\"Fuzzy Similarity Score: {similarity_score}\")\n",
    "\n",
    "\n",
    "# Example of how to use this in a loop with multiple contexts:\n",
    "contexts = [\n",
    "    \"The First AFL–NFL World Championship Game was on January 15, 1967.\",\n",
    "    \"Super Bowl I was played in 1967.\",\n",
    "    \"This is completely unrelated.\"\n",
    "]\n",
    "\n",
    "for context in contexts:\n",
    "    similarity = calculate_fuzzy_similarity(response, context)\n",
    "    print(f\"Similarity with context '{context}': {similarity}\")"
   ]
  },
  {
   "cell_type": "code",
   "execution_count": 12,
   "metadata": {},
   "outputs": [
    {
     "name": "stdout",
     "output_type": "stream",
     "text": [
      "TF-IDF Cosine Similarity: 0.27\n",
      "BLEU Score: 0.01\n",
      "TF-IDF with context 'The First AFL–NFL World Championship Game was on January 15, 1967.': 0.41\n",
      "BLEU with context 'The First AFL–NFL World Championship Game was on January 15, 1967.': 0.06\n",
      "TF-IDF with context 'Super Bowl I was played in 1967.': 0.16\n",
      "BLEU with context 'Super Bowl I was played in 1967.': 0.03\n",
      "TF-IDF with context 'This is completely unrelated.': 0.00\n",
      "BLEU with context 'This is completely unrelated.': 0.00\n"
     ]
    }
   ],
   "source": [
    "from sklearn.feature_extraction.text import TfidfVectorizer\n",
    "from sklearn.metrics.pairwise import cosine_similarity\n",
    "from nltk.translate.bleu_score import sentence_bleu, SmoothingFunction\n",
    "import nltk  # Make sure you have NLTK installed\n",
    "nltk.download('punkt', quiet=True) # Download punkt tokenizer if you haven't already\n",
    "\n",
    "\n",
    "def calculate_tfidf_cosine_similarity(response, context):\n",
    "    \"\"\"Calculates TF-IDF cosine similarity between response and context.\"\"\"\n",
    "\n",
    "    vectorizer = TfidfVectorizer()\n",
    "    vectors = vectorizer.fit_transform([response, context])  # Fit and transform both strings\n",
    "\n",
    "    similarity = cosine_similarity(vectors[0], vectors[1])[0][0] # cosine_similarity returns a 2d array\n",
    "    return similarity\n",
    "\n",
    "\n",
    "def calculate_bleu_score(response, context):\n",
    "    \"\"\"Calculates BLEU score between response and context.\"\"\"\n",
    "\n",
    "    reference = context.split()  # Split the context into words\n",
    "    candidate = response.split()  # Split the response into words\n",
    "\n",
    "    # Use a smoothing function to handle cases where n-grams are not present\n",
    "    smoothing = SmoothingFunction().method4  # Or another smoothing method\n",
    "\n",
    "    bleu = sentence_bleu([reference], candidate, smoothing_function=smoothing)\n",
    "    return bleu\n",
    "\n",
    "\n",
    "\n",
    "# Example usage:\n",
    "user_input = \"When was the first super bowl?\"\n",
    "response = \"The first superbowl was held on Jan 15, 1967.\"\n",
    "retrieved_context = \"The First AFL–NFL World Championship Game was an American football game played on January 15, 1967, at the Los Angeles Memorial Coliseum in Los Angeles.\"\n",
    "\n",
    "tfidf_similarity = calculate_tfidf_cosine_similarity(response, retrieved_context)\n",
    "bleu_score = calculate_bleu_score(response, retrieved_context)\n",
    "\n",
    "print(f\"TF-IDF Cosine Similarity: {tfidf_similarity:.2f}\")\n",
    "print(f\"BLEU Score: {bleu_score:.2f}\")\n",
    "\n",
    "\n",
    "# Example with multiple contexts:\n",
    "contexts = [\n",
    "    \"The First AFL–NFL World Championship Game was on January 15, 1967.\",\n",
    "    \"Super Bowl I was played in 1967.\",\n",
    "    \"This is completely unrelated.\"\n",
    "]\n",
    "\n",
    "for context in contexts:\n",
    "    tfidf = calculate_tfidf_cosine_similarity(response, context)\n",
    "    bleu = calculate_bleu_score(response, context)\n",
    "    print(f\"TF-IDF with context '{context}': {tfidf:.2f}\")\n",
    "    print(f\"BLEU with context '{context}': {bleu:.2f}\")"
   ]
  }
 ],
 "metadata": {
  "kernelspec": {
   "display_name": "Python 3",
   "language": "python",
   "name": "python3"
  },
  "language_info": {
   "codemirror_mode": {
    "name": "ipython",
    "version": 3
   },
   "file_extension": ".py",
   "mimetype": "text/x-python",
   "name": "python",
   "nbconvert_exporter": "python",
   "pygments_lexer": "ipython3",
   "version": "3.11.9"
  }
 },
 "nbformat": 4,
 "nbformat_minor": 2
}
