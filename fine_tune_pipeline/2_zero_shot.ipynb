{
 "cells": [
  {
   "cell_type": "code",
   "execution_count": 1,
   "metadata": {},
   "outputs": [],
   "source": [
    "import torch"
   ]
  },
  {
   "cell_type": "code",
   "execution_count": 2,
   "metadata": {},
   "outputs": [],
   "source": [
    "import subprocess\n",
    "import sys\n",
    "\n",
    "def install(package):\n",
    "    subprocess.check_call([sys.executable, \"-m\", \"pip\", \"install\", package, \"--break-system-packages\"])\n",
    "\n",
    "# install('transformers')\n",
    "# install('flax')\n",
    "# install('torch')\n"
   ]
  },
  {
   "cell_type": "code",
   "execution_count": 3,
   "metadata": {},
   "outputs": [
    {
     "name": "stderr",
     "output_type": "stream",
     "text": [
      "Device set to use mps:0\n"
     ]
    },
    {
     "name": "stdout",
     "output_type": "stream",
     "text": [
      "Text: The new iPhone has a great camera and fast processor.\n",
      "International Student Support: 0.08832301944494247\n",
      "ASU’s Commitment to Sustainability: 0.08637785166501999\n",
      "ASU’s AI & Tech Initiatives: 0.08281829208135605\n",
      "Health, Wellness & Counseling Services: 0.08265572786331177\n",
      "Student Life & Campus Activities: 0.07656005769968033\n",
      "ASU’s Global & Online Education: 0.07411225885152817\n",
      "Admissions & Application Process: 0.06992251425981522\n",
      "Career Services & Job Support: 0.06879362463951111\n",
      "ASU’s History & Rankings: 0.06130867451429367\n",
      "ASU Library & Research Resources: 0.05997524410486221\n",
      "Sun Devil Athletics & Sports: 0.05844476819038391\n",
      "Housing & Campus Life: 0.05473462864756584\n",
      "Academic Programs & Courses: 0.05044186860322952\n",
      "Research & Innovation at ASU: 0.045196838676929474\n",
      "Scholarships & Financial Aid: 0.040334638208150864\n"
     ]
    }
   ],
   "source": [
    "from transformers import pipeline \n",
    "\n",
    "# Load the zero-shot classification pipeline using a pre-trained BART model\n",
    "classifier = pipeline(\"zero-shot-classification\", model=\"facebook/bart-large-mnli\")  \n",
    "\n",
    "# Example text to classify \n",
    "text = \"The new iPhone has a great camera and fast processor.\" \n",
    "\n",
    "# Define potential categories \n",
    "candidate_labels = [\"Academic Programs & Courses\",\n",
    "\"Admissions & Application Process\",\n",
    "\"Scholarships & Financial Aid\",\n",
    "\"Research & Innovation at ASU\",\n",
    "\"Student Life & Campus Activities\",\n",
    "\"ASU’s Global & Online Education\",\n",
    "\"ASU’s Commitment to Sustainability\",\n",
    "\"International Student Support\",\n",
    "\"ASU’s AI & Tech Initiatives\",\n",
    "\"Sun Devil Athletics & Sports\",\n",
    "\"ASU’s History & Rankings\",\n",
    "\"ASU Library & Research Resources\",\n",
    "\"Career Services & Job Support\",\n",
    "\"Housing & Campus Life\",\n",
    "\"Health, Wellness & Counseling Services\"] \n",
    "\n",
    "# Perform zero-shot classification\n",
    "result = classifier(text, candidate_labels) \n",
    "\n",
    "# Print the results\n",
    "print(\"Text:\", text)\n",
    "for label, score in zip(result[\"labels\"], result[\"scores\"]):\n",
    "    print(f\"{label}: {score}\") "
   ]
  }
 ],
 "metadata": {
  "kernelspec": {
   "display_name": "Python 3",
   "language": "python",
   "name": "python3"
  },
  "language_info": {
   "codemirror_mode": {
    "name": "ipython",
    "version": 3
   },
   "file_extension": ".py",
   "mimetype": "text/x-python",
   "name": "python",
   "nbconvert_exporter": "python",
   "pygments_lexer": "ipython3",
   "version": "3.9.6"
  }
 },
 "nbformat": 4,
 "nbformat_minor": 2
}
