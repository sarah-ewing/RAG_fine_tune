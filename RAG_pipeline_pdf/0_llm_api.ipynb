{
 "cells": [
  {
   "cell_type": "code",
   "execution_count": 1,
   "id": "c09e299a-24a3-43d9-a61c-2d360ad02178",
   "metadata": {},
   "outputs": [],
   "source": [
    "from dotenv import load_dotenv\n",
    "\n",
    "import os\n",
    "\n",
    "load_dotenv()\n",
    "ASU_key = os.environ.get(\"ASU_key\") "
   ]
  },
  {
   "cell_type": "code",
   "execution_count": 2,
   "id": "e0361e2e",
   "metadata": {},
   "outputs": [
    {
     "name": "stderr",
     "output_type": "stream",
     "text": [
      "/Users/sarahherberger/Library/Python/3.9/lib/python/site-packages/urllib3/__init__.py:35: NotOpenSSLWarning: urllib3 v2 only supports OpenSSL 1.1.1+, currently the 'ssl' module is compiled with 'LibreSSL 2.8.3'. See: https://github.com/urllib3/urllib3/issues/3020\n",
      "  warnings.warn(\n"
     ]
    },
    {
     "name": "stdout",
     "output_type": "stream",
     "text": [
      "result: I don't have a name. I'm a large language model, trained to be informative and comprehensive.  I'm here to assist you with your questions and requests. \n",
      "\n",
      "How can I help you today?\n"
     ]
    }
   ],
   "source": [
    "import requests\n",
    "\n",
    "api_url = 'https://api-dev-poc.aiml.asu.edu/queryV2'\n",
    "bearer_token = ASU_key\n",
    "json_payload = {\n",
    "    \"query\": \"what is your name?\",\n",
    "    \"model_provider\": \"gcp-deepmind\",\n",
    "    \"model_name\": \"geminiflash1_5\",\n",
    "}\n",
    "headers = {\n",
    "    \"Authorization\": f\"Bearer {bearer_token}\",\n",
    "    \"Content-Type\": \"application/json\"\n",
    "}\n",
    "try:\n",
    "    response = requests.post(api_url, headers=headers, json=json_payload)\n",
    "    response.raise_for_status()\n",
    "    result = response.json().get(\"response\")\n",
    "    print(\"result:\", result)\n",
    "except requests.exceptions.RequestException as e:\n",
    "    print(f\"API request error: {e}\")\n",
    "except Exception as e:\n",
    "    print(f\"Unexpected error: {e}\")"
   ]
  },
  {
   "cell_type": "code",
   "execution_count": null,
   "id": "89bc9a89",
   "metadata": {},
   "outputs": [],
   "source": []
  }
 ],
 "metadata": {
  "kernelspec": {
   "display_name": "Python 3",
   "language": "python",
   "name": "python3"
  },
  "language_info": {
   "codemirror_mode": {
    "name": "ipython",
    "version": 3
   },
   "file_extension": ".py",
   "mimetype": "text/x-python",
   "name": "python",
   "nbconvert_exporter": "python",
   "pygments_lexer": "ipython3",
   "version": "3.9.6"
  }
 },
 "nbformat": 4,
 "nbformat_minor": 5
}
